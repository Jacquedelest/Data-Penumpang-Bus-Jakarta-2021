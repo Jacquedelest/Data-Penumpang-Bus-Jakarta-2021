{
  "nbformat": 4,
  "nbformat_minor": 0,
  "metadata": {
    "colab": {
      "name": "Untitled3.ipynb",
      "provenance": [],
      "collapsed_sections": [],
      "authorship_tag": "ABX9TyNiR5yWBPcTcoUO27T5KHhQ",
      "include_colab_link": true
    },
    "kernelspec": {
      "name": "python3",
      "display_name": "Python 3"
    },
    "language_info": {
      "name": "python"
    }
  },
  "cells": [
    {
      "cell_type": "markdown",
      "metadata": {
        "id": "view-in-github",
        "colab_type": "text"
      },
      "source": [
        "<a href=\"https://colab.research.google.com/github/Jacquedelest/Jacquedelest/blob/main/Penumpang%20Bus%20Jakarta%202021.ipynb\" target=\"_parent\"><img src=\"https://colab.research.google.com/assets/colab-badge.svg\" alt=\"Open In Colab\"/></a>"
      ]
    },
    {
      "cell_type": "markdown",
      "metadata": {
        "id": "4nm8H5_Jf94A"
      },
      "source": [
        "Dataset diambil dari sini\n",
        "https://data.jakarta.go.id/dataset/data-penumpang-bus-sekolah-tahun-2021"
      ]
    },
    {
      "cell_type": "code",
      "metadata": {
        "id": "aTc9PfH-mU2l"
      },
      "source": [
        "import pandas as pd \n",
        "import numpy as np\n",
        "#membaca dataset dan menyimpannya ke dalam dataframe\n",
        "data_penumpang = pd.read_csv(\"data-penumpang-bus-sekolah-januari.csv\")\n",
        "#mengisi row kosong dengan nilai 0.0\n",
        "data_penumpang = data_penumpang.fillna(0.0)\n",
        "#mengubah tipedata kolom jumlah_bus dan jumlah_penumpang dari float ke integer\n",
        "data_penumpang[[\"jumlah_bus\", \"jumlah_penumpang\"]] = data_penumpang[[\"jumlah_bus\", \"jumlah_penumpang\"]].apply(np.int64)\n",
        "#menghapus row yang terdapat nilai 0\n",
        "data_penumpang = data_penumpang[data_penumpang['jumlah_bus'] != 0]\n",
        "data_penumpang"
      ],
      "execution_count": null,
      "outputs": []
    },
    {
      "cell_type": "code",
      "metadata": {
        "colab": {
          "base_uri": "https://localhost:8080/"
        },
        "id": "0UtihHiQNeXo",
        "outputId": "941d3b9a-64fa-4fd7-d92a-ad2fa0825456"
      },
      "source": [
        "\"Menyimpan Dataframe ke dalam Excel\"\n",
        "writer = pd.ExcelWriter('data_penumpang_januari.xlsx')\n",
        "# write dataframe to excel sheet named 'marks'\n",
        "data_penumpang.to_excel(writer, 'data_penumpang')\n",
        "# save the excel file\n",
        "writer.save()\n",
        "print('DataFrame is written successfully to Excel Sheet.')"
      ],
      "execution_count": 85,
      "outputs": [
        {
          "output_type": "stream",
          "text": [
            "DataFrame is written successfully to Excel Sheet.\n"
          ],
          "name": "stdout"
        }
      ]
    },
    {
      "cell_type": "code",
      "metadata": {
        "id": "T4j-iO3Mdbvu"
      },
      "source": [
        ""
      ],
      "execution_count": null,
      "outputs": []
    }
  ]
}