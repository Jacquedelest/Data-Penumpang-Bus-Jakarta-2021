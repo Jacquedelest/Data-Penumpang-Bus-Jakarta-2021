{
  "nbformat": 4,
  "nbformat_minor": 0,
  "metadata": {
    "colab": {
      "name": "Untitled3.ipynb",
      "provenance": [],
      "collapsed_sections": [],
      "authorship_tag": "ABX9TyNShzFmDi7tL5vc6z5BdcdG",
      "include_colab_link": true
    },
    "kernelspec": {
      "name": "python3",
      "display_name": "Python 3"
    },
    "language_info": {
      "name": "python"
    }
  },
  "cells": [
    {
      "cell_type": "markdown",
      "metadata": {
        "id": "view-in-github",
        "colab_type": "text"
      },
      "source": [
        "<a href=\"https://colab.research.google.com/github/Jacquedelest/Jacquedelest/blob/main/data_penumpang_januari.ipynb\" target=\"_parent\"><img src=\"https://colab.research.google.com/assets/colab-badge.svg\" alt=\"Open In Colab\"/></a>"
      ]
    },
    {
      "cell_type": "code",
      "metadata": {
        "colab": {
          "base_uri": "https://localhost:8080/",
          "height": 419
        },
        "id": "aTc9PfH-mU2l",
        "outputId": "39d45778-48f4-4eb8-8e1e-f48d34169894"
      },
      "source": [
        "import pandas as pd \n",
        "import numpy as np\n",
        "#membaca dataset dan menyimpannya ke dalam dataframe\n",
        "data_penumpang = pd.read_csv(\"data-penumpang-bus-sekolah-bulan-januari.csv\")\n",
        "#mengisi row kosong dengan nilai 0.0\n",
        "data_penumpang = data_penumpang.fillna(0.0)\n",
        "#mengubah tipedata kolom jumlah_bus dan jumlah_penumpang dari float ke integer\n",
        "data_penumpang[[\"jumlah_bus\", \"jumlah_penumpang\"]] = data_penumpang[[\"jumlah_bus\", \"jumlah_penumpang\"]].apply(np.int64)\n",
        "#menghapus row yang terdapat nilai 0\n",
        "data_penumpang = data_penumpang[data_penumpang['jumlah_bus'] != 0]\n",
        "data_penumpang"
      ],
      "execution_count": 74,
      "outputs": [
        {
          "output_type": "execute_result",
          "data": {
            "text/html": [
              "<div>\n",
              "<style scoped>\n",
              "    .dataframe tbody tr th:only-of-type {\n",
              "        vertical-align: middle;\n",
              "    }\n",
              "\n",
              "    .dataframe tbody tr th {\n",
              "        vertical-align: top;\n",
              "    }\n",
              "\n",
              "    .dataframe thead th {\n",
              "        text-align: right;\n",
              "    }\n",
              "</style>\n",
              "<table border=\"1\" class=\"dataframe\">\n",
              "  <thead>\n",
              "    <tr style=\"text-align: right;\">\n",
              "      <th></th>\n",
              "      <th>type_operasi</th>\n",
              "      <th>area_operasi</th>\n",
              "      <th>jumlah_bus</th>\n",
              "      <th>jumlah_penumpang</th>\n",
              "    </tr>\n",
              "  </thead>\n",
              "  <tbody>\n",
              "    <tr>\n",
              "      <th>0</th>\n",
              "      <td>RSUD CENGKARENG</td>\n",
              "      <td>JAKARTA</td>\n",
              "      <td>125</td>\n",
              "      <td>5203</td>\n",
              "    </tr>\n",
              "    <tr>\n",
              "      <th>2</th>\n",
              "      <td>RSUD CENGKARENG</td>\n",
              "      <td>DEPOK</td>\n",
              "      <td>30</td>\n",
              "      <td>692</td>\n",
              "    </tr>\n",
              "    <tr>\n",
              "      <th>3</th>\n",
              "      <td>RSUD CENGKARENG</td>\n",
              "      <td>TANGERANG</td>\n",
              "      <td>70</td>\n",
              "      <td>1232</td>\n",
              "    </tr>\n",
              "    <tr>\n",
              "      <th>4</th>\n",
              "      <td>RSUD CENGKARENG</td>\n",
              "      <td>BEKASI</td>\n",
              "      <td>24</td>\n",
              "      <td>233</td>\n",
              "    </tr>\n",
              "    <tr>\n",
              "      <th>5</th>\n",
              "      <td>RSUD DUREN SAWIT</td>\n",
              "      <td>JAKARTA</td>\n",
              "      <td>95</td>\n",
              "      <td>4887</td>\n",
              "    </tr>\n",
              "    <tr>\n",
              "      <th>...</th>\n",
              "      <td>...</td>\n",
              "      <td>...</td>\n",
              "      <td>...</td>\n",
              "      <td>...</td>\n",
              "    </tr>\n",
              "    <tr>\n",
              "      <th>436</th>\n",
              "      <td>Puskesmas Tebet</td>\n",
              "      <td>RS Wisma Atlet</td>\n",
              "      <td>1</td>\n",
              "      <td>17</td>\n",
              "    </tr>\n",
              "    <tr>\n",
              "      <th>437</th>\n",
              "      <td>Puskesmas Grogol Petamburan</td>\n",
              "      <td>RS Wisma Atlet</td>\n",
              "      <td>1</td>\n",
              "      <td>11</td>\n",
              "    </tr>\n",
              "    <tr>\n",
              "      <th>438</th>\n",
              "      <td>Puskesmas Kemayoran</td>\n",
              "      <td>RS Wisma Atlet</td>\n",
              "      <td>1</td>\n",
              "      <td>9</td>\n",
              "    </tr>\n",
              "    <tr>\n",
              "      <th>439</th>\n",
              "      <td>Puskesmas Pulogadung</td>\n",
              "      <td>RS Wisma Atlet</td>\n",
              "      <td>1</td>\n",
              "      <td>10</td>\n",
              "    </tr>\n",
              "    <tr>\n",
              "      <th>440</th>\n",
              "      <td>Puskesmas Ciracas</td>\n",
              "      <td>RS Wisma Atlet</td>\n",
              "      <td>1</td>\n",
              "      <td>31</td>\n",
              "    </tr>\n",
              "  </tbody>\n",
              "</table>\n",
              "<p>412 rows × 4 columns</p>\n",
              "</div>"
            ],
            "text/plain": [
              "                    type_operasi    area_operasi  jumlah_bus  jumlah_penumpang\n",
              "0                RSUD CENGKARENG         JAKARTA         125              5203\n",
              "2                RSUD CENGKARENG           DEPOK          30               692\n",
              "3                RSUD CENGKARENG       TANGERANG          70              1232\n",
              "4                RSUD CENGKARENG          BEKASI          24               233\n",
              "5               RSUD DUREN SAWIT         JAKARTA          95              4887\n",
              "..                           ...             ...         ...               ...\n",
              "436              Puskesmas Tebet  RS Wisma Atlet           1                17\n",
              "437  Puskesmas Grogol Petamburan  RS Wisma Atlet           1                11\n",
              "438          Puskesmas Kemayoran  RS Wisma Atlet           1                 9\n",
              "439         Puskesmas Pulogadung  RS Wisma Atlet           1                10\n",
              "440            Puskesmas Ciracas  RS Wisma Atlet           1                31\n",
              "\n",
              "[412 rows x 4 columns]"
            ]
          },
          "metadata": {
            "tags": []
          },
          "execution_count": 74
        }
      ]
    },
    {
      "cell_type": "code",
      "metadata": {
        "colab": {
          "base_uri": "https://localhost:8080/"
        },
        "id": "0UtihHiQNeXo",
        "outputId": "a4969656-2d40-44b1-9c6e-b9256bb3fa04"
      },
      "source": [
        "\"Menyimpan Dataframe ke dalam Excel\"\n",
        "writer = pd.ExcelWriter('data_penumpang.xlsx')\n",
        "# write dataframe to excel sheet named 'marks'\n",
        "data_penumpang.to_excel(writer, 'data_penumpang')\n",
        "# save the excel file\n",
        "writer.save()\n",
        "print('DataFrame is written successfully to Excel Sheet.')"
      ],
      "execution_count": 73,
      "outputs": [
        {
          "output_type": "stream",
          "text": [
            "DataFrame is written successfully to Excel Sheet.\n"
          ],
          "name": "stdout"
        }
      ]
    }
  ]
}