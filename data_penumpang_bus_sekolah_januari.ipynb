{
  "nbformat": 4,
  "nbformat_minor": 0,
  "metadata": {
    "colab": {
      "name": "Untitled3.ipynb",
      "provenance": [],
      "collapsed_sections": [],
      "authorship_tag": "ABX9TyMQv6oSjV3uKEFtudMQrhH6",
      "include_colab_link": true
    },
    "kernelspec": {
      "name": "python3",
      "display_name": "Python 3"
    },
    "language_info": {
      "name": "python"
    }
  },
  "cells": [
    {
      "cell_type": "markdown",
      "metadata": {
        "id": "view-in-github",
        "colab_type": "text"
      },
      "source": [
        "<a href=\"https://colab.research.google.com/github/Jacquedelest/Jacquedelest/blob/main/data_penumpang_bus_sekolah_januari.ipynb\" target=\"_parent\"><img src=\"https://colab.research.google.com/assets/colab-badge.svg\" alt=\"Open In Colab\"/></a>"
      ]
    },
    {
      "cell_type": "code",
      "metadata": {
        "colab": {
          "base_uri": "https://localhost:8080/"
        },
        "id": "aTc9PfH-mU2l",
        "outputId": "4866889e-f374-4a69-a6a2-bccfeb532cd8"
      },
      "source": [
        "import pandas as pd \n",
        "import numpy as np\n",
        "#membaca dataset dan menyimpannya ke dalam dataframe\n",
        "data_penumpang = pd.read_csv(\"data-penumpang-bus-sekolah-bulan-januari.csv\")\n",
        "#mengisi row kosong dengan nilai 0.0\n",
        "data_penumpang = data_penumpang.fillna(0.0)\n",
        "#mengubah tipedata kolom jumlah_bus dan jumlah_penumpang dari float ke integer\n",
        "data_penumpang[[\"jumlah_bus\", \"jumlah_penumpang\"]] = data_penumpang[[\"jumlah_bus\", \"jumlah_penumpang\"]].apply(np.int64)\n",
        "#menghapus row yang terdapat nilai 0\n",
        "data_penumpang = data_penumpang[data_penumpang['jumlah_bus'] != 0]\n",
        "writer = pd.ExcelWriter('data_penumpang.xlsx')\n",
        "# write dataframe to excel sheet named 'marks'\n",
        "data_penumpang.to_excel(writer, 'data_penumpang')\n",
        "# save the excel file\n",
        "writer.save()\n",
        "print('DataFrame is written successfully to Excel Sheet.')\n"
      ],
      "execution_count": null,
      "outputs": [
        {
          "output_type": "stream",
          "text": [
            "DataFrame is written successfully to Excel Sheet.\n"
          ],
          "name": "stdout"
        }
      ]
    }
  ]
}