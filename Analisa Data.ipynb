{
  "nbformat": 4,
  "nbformat_minor": 0,
  "metadata": {
    "colab": {
      "name": "Untitled4.ipynb",
      "provenance": [],
      "authorship_tag": "ABX9TyOc6swVuvDjIoqb3o2sh/kp",
      "include_colab_link": true
    },
    "kernelspec": {
      "name": "python3",
      "display_name": "Python 3"
    },
    "language_info": {
      "name": "python"
    }
  },
  "cells": [
    {
      "cell_type": "markdown",
      "metadata": {
        "id": "view-in-github",
        "colab_type": "text"
      },
      "source": [
        "<a href=\"https://colab.research.google.com/github/Jacquedelest/Data-Penumpang-Bus-Jakarta-2021/blob/main/Analisa%20Data.ipynb\" target=\"_parent\"><img src=\"https://colab.research.google.com/assets/colab-badge.svg\" alt=\"Open In Colab\"/></a>"
      ]
    },
    {
      "cell_type": "code",
      "metadata": {
        "colab": {
          "base_uri": "https://localhost:8080/",
          "height": 266
        },
        "id": "8U1GgxwtIeKl",
        "outputId": "d9adf2ab-1102-495d-e025-7fac27a7d3dd"
      },
      "source": [
        "import pandas as pd\n",
        "#membaca dataset\n",
        "penumpang = pd.read_excel(\"Data Penumpang Bus Jakarta 2021.xlsx\", sheet_name=0)\n",
        "#hapus kolom tipe operasi\n",
        "penumpang = penumpang.drop(columns=\"Tipe Operasi\")\n",
        "#groupby data berdasarkan Area Operasi\n",
        "penumpang = penumpang[[\"Jumlah Bus\", \"Jumlah Penumpang\"]].groupby(penumpang[\"Area Operasi\"]).sum()\n",
        "penumpang"
      ],
      "execution_count": 35,
      "outputs": [
        {
          "output_type": "execute_result",
          "data": {
            "text/html": [
              "<div>\n",
              "<style scoped>\n",
              "    .dataframe tbody tr th:only-of-type {\n",
              "        vertical-align: middle;\n",
              "    }\n",
              "\n",
              "    .dataframe tbody tr th {\n",
              "        vertical-align: top;\n",
              "    }\n",
              "\n",
              "    .dataframe thead th {\n",
              "        text-align: right;\n",
              "    }\n",
              "</style>\n",
              "<table border=\"1\" class=\"dataframe\">\n",
              "  <thead>\n",
              "    <tr style=\"text-align: right;\">\n",
              "      <th></th>\n",
              "      <th>Jumlah Bus</th>\n",
              "      <th>Jumlah Penumpang</th>\n",
              "    </tr>\n",
              "    <tr>\n",
              "      <th>Area Operasi</th>\n",
              "      <th></th>\n",
              "      <th></th>\n",
              "    </tr>\n",
              "  </thead>\n",
              "  <tbody>\n",
              "    <tr>\n",
              "      <th>BEKASI</th>\n",
              "      <td>462</td>\n",
              "      <td>14720</td>\n",
              "    </tr>\n",
              "    <tr>\n",
              "      <th>BOGOR</th>\n",
              "      <td>322</td>\n",
              "      <td>9925</td>\n",
              "    </tr>\n",
              "    <tr>\n",
              "      <th>DEPOK</th>\n",
              "      <td>210</td>\n",
              "      <td>7136</td>\n",
              "    </tr>\n",
              "    <tr>\n",
              "      <th>JAKARTA</th>\n",
              "      <td>619</td>\n",
              "      <td>26450</td>\n",
              "    </tr>\n",
              "    <tr>\n",
              "      <th>RS Wisma Atlet</th>\n",
              "      <td>373</td>\n",
              "      <td>4671</td>\n",
              "    </tr>\n",
              "    <tr>\n",
              "      <th>TANGERANG</th>\n",
              "      <td>243</td>\n",
              "      <td>6865</td>\n",
              "    </tr>\n",
              "  </tbody>\n",
              "</table>\n",
              "</div>"
            ],
            "text/plain": [
              "                Jumlah Bus  Jumlah Penumpang\n",
              "Area Operasi                                \n",
              "BEKASI                 462             14720\n",
              "BOGOR                  322              9925\n",
              "DEPOK                  210              7136\n",
              "JAKARTA                619             26450\n",
              "RS Wisma Atlet         373              4671\n",
              "TANGERANG              243              6865"
            ]
          },
          "metadata": {
            "tags": []
          },
          "execution_count": 35
        }
      ]
    },
    {
      "cell_type": "code",
      "metadata": {
        "id": "sPY6dH79e88H"
      },
      "source": [
        ""
      ],
      "execution_count": 35,
      "outputs": []
    }
  ]
}